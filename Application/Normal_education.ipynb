{
 "cells": [
  {
   "cell_type": "code",
   "execution_count": 1,
   "id": "67ed5aed",
   "metadata": {},
   "outputs": [
    {
     "name": "stdout",
     "output_type": "stream",
     "text": [
      "Selected Columns (First 10 Rows):\n",
      "       DISTNAME  OVERALL_LI\n",
      "0       KUPWARA       66.92\n",
      "1      BARAMULA       66.93\n",
      "2      SRINAGAR       71.21\n",
      "3        BADGAM       57.98\n",
      "4       PULWAMA       65.00\n",
      "5      ANANTNAG       64.32\n",
      "6  LEH (LADAKH)       80.48\n",
      "7        KARGIL       74.49\n",
      "8          DODA       65.97\n",
      "9      UDHAMPUR       69.90\n"
     ]
    },
    {
     "data": {
      "image/png": "[encoded data removed]",
      "text/plain": [
       "<Figure size 640x480 with 1 Axes>"
      ]
     },
     "metadata": {},
     "output_type": "display_data"
    },
    {
     "name": "stdout",
     "output_type": "stream",
     "text": [
      "\n",
      "Mean of OVERALL_LI: 73.320224\n",
      "Standard Deviation of OVERALL_LI: 10.120713572618008\n",
      "\n",
      "Percentage of data within 1 standard deviations from the mean: 66.56%\n",
      "\n",
      "Percentage of data within 2 standard deviations from the mean: 95.36%\n",
      "\n",
      "Percentage of data within 3 standard deviations from the mean: 99.68%\n",
      "\n",
      "DataFrame with Z-Scores:\n",
      "        DISTNAME  OVERALL_LI   Z_SCORE\n",
      "0        KUPWARA       66.92 -0.632895\n",
      "1       BARAMULA       66.93 -0.631906\n",
      "2       SRINAGAR       71.21 -0.208672\n",
      "3         BADGAM       57.98 -1.516940\n",
      "4        PULWAMA       65.00 -0.822757\n",
      "..           ...         ...       ...\n",
      "675  RANGA REDDY       78.05  0.467711\n",
      "676  MAHBUBNAGAR       56.06 -1.706801\n",
      "677     NALGONDA       65.05 -0.817813\n",
      "678     WARANGAL       66.16 -0.708049\n",
      "679      KHAMMAM       65.46 -0.777269\n",
      "\n",
      "[625 rows x 3 columns]\n",
      "\n",
      "Rows with Z-Scores beyond 3 standard deviations (potential outliers):\n",
      "      DISTNAME  OVERALL_LI   Z_SCORE\n",
      "434  DANTEWADA       42.67 -3.030890\n",
      "494  ALIRAJPUR       37.22 -3.569821\n"
     ]
    }
   ],
   "source": [
    "import numpy as np\n",
    "import pandas as pd\n",
    "import matplotlib.pyplot as plt\n",
    "from scipy import stats\n",
    "\n",
    "# Step 1: Read CSV file into DataFrame and drop missing values\n",
    "education_districtwise = pd.read_csv('F:\\Districtwise.csv')\n",
    "education_districtwise = education_districtwise.dropna()\n",
    "\n",
    "# Step 2: Select specific columns ('DISTNAME', 'OVERALL_LI') and print the first 10 rows\n",
    "education_districtwise = education_districtwise[[\"DISTNAME\", \"OVERALL_LI\"]]\n",
    "print(\"Selected Columns (First 10 Rows):\")\n",
    "print(education_districtwise.head(10))\n",
    "\n",
    "# Step 3: Plot a histogram of the 'OVERALL_LI' column\n",
    "education_districtwise['OVERALL_LI'].hist()\n",
    "plt.title('Histogram of OVERALL_LI')\n",
    "plt.xlabel('OVERALL_LI')\n",
    "plt.ylabel('Frequency')\n",
    "plt.show()\n",
    "\n",
    "# Step 4: Calculate mean and standard deviation of 'OVERALL_LI' column\n",
    "mean_overall_li = education_districtwise['OVERALL_LI'].mean()\n",
    "std_overall_li = education_districtwise['OVERALL_LI'].std()\n",
    "print(\"\\nMean of OVERALL_LI:\", mean_overall_li)\n",
    "print(\"Standard Deviation of OVERALL_LI:\", std_overall_li)\n",
    "\n",
    "# Step 5: Calculate the percentage of data within 1, 2, and 3 standard deviations from the mean\n",
    "for i in range(1, 4):\n",
    "    lower_limit = mean_overall_li - i * std_overall_li\n",
    "    upper_limit = mean_overall_li + i * std_overall_li\n",
    "    percentage_within_limit = ((education_districtwise['OVERALL_LI'] >= lower_limit) & (education_districtwise['OVERALL_LI'] <= upper_limit)).mean()\n",
    "    print(f\"\\nPercentage of data within {i} standard deviations from the mean: {percentage_within_limit:.2%}\")\n",
    "\n",
    "# Step 6: Calculate Z-scores and add a 'Z_SCORE' column to the DataFrame\n",
    "education_districtwise['Z_SCORE'] = stats.zscore(education_districtwise['OVERALL_LI'])\n",
    "print(\"\\nDataFrame with Z-Scores:\")\n",
    "print(education_districtwise)\n",
    "\n",
    "# Step 7: Identify and print rows with Z-scores greater than 3 or less than -3 (potential outliers)\n",
    "outliers = education_districtwise[(education_districtwise['Z_SCORE'] > 3) | (education_districtwise['Z_SCORE'] < -3)]\n",
    "print(\"\\nRows with Z-Scores beyond 3 standard deviations (potential outliers):\")\n",
    "print(outliers)\n"
   ]
  },
  {
   "cell_type": "code",
   "execution_count": null,
   "id": "7bc2260e",
   "metadata": {},
   "outputs": [],
   "source": []
  }
 ],
 "metadata": {
  "kernelspec": {
   "display_name": "Python 3 (ipykernel)",
   "language": "python",
   "name": "python3"
  },
  "language_info": {
   "codemirror_mode": {
    "name": "ipython",
    "version": 3
   },
   "file_extension": ".py",
   "mimetype": "text/x-python",
   "name": "python",
   "nbconvert_exporter": "python",
   "pygments_lexer": "ipython3",
   "version": "3.10.11"
  }
 },
 "nbformat": 4,
 "nbformat_minor": 5
}
