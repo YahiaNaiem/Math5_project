{
 "cells": [
  {
   "cell_type": "code",
   "execution_count": null,
   "metadata": {},
   "outputs": [],
   "source": [
    "import numpy as np\n",
    "import pandas as pd\n",
    "import matplotlib.pyplot as plt\n",
    "import seaborn as sns\n",
    "import plotly.express as px\n",
    "import plotly.graph_objects as go\n",
    "from scipy import stats\n"
   ]
  },
  {
   "cell_type": "code",
   "execution_count": null,
   "metadata": {},
   "outputs": [],
   "source": [
    "# Read CSV file into DataFrame and drop missing values\n",
    "education_districtwise = pd.read_csv('Districtwise.csv')\n",
    "education_districtwise = education_districtwise.dropna()"
   ]
  },
  {
   "cell_type": "code",
   "execution_count": null,
   "metadata": {},
   "outputs": [],
   "source": [
    "# Select specific columns ('DISTNAME', 'OVERALL_LI') and print the first 10 rows\n",
    "education_districtwise = education_districtwise[[\"DISTNAME\", \"OVERALL_LI\", \"TOTPOPULAT\"]]\n",
    "print(\"Selected Columns (First 10 Rows):\")\n",
    "print(education_districtwise.head(10))"
   ]
  },
  {
   "cell_type": "code",
   "execution_count": null,
   "metadata": {},
   "outputs": [],
   "source": [
    "scatter_fig = px.scatter(education_districtwise, x='TOTPOPULAT', y='OVERALL_LI', title='Scatter Plot: TOTPOPULAT vs OVERALL_LI',\n",
    "                         labels={'TOTPOPULAT': 'Total Population', 'OVERALL_LI': 'Overall Literacy'})\n",
    "scatter_fig.show()"
   ]
  },
  {
   "cell_type": "code",
   "execution_count": 87,
   "metadata": {},
   "outputs": [
    {
     "data": {
      "application/vnd.plotly.v1+json": {
       "config": {
        "plotlyServerURL": "https://plot.ly"
       },
       "data": [
        {
         "alignmentgroup": "True",
         "bingroup": "x",
         "hovertemplate": "OVERALL_LI=%{x}<br>count=%{y}<extra></extra>",
         "legendgroup": "",
         "marker": {
          "color": "#636efa",
          "pattern": {
           "shape": ""
          }
         },
         "name": "",
         "nbinsx": 40,
         "offsetgroup": "",
         "orientation": "v",
         "showlegend": false,
         "type": "histogram",
         "x": [
          66.92,
          66.93,
          71.21,
          57.98,
          65,
          64.32,
          80.48,
          74.49,
          65.97,
          69.9,
          68.69,
          68.54,
          83.98,
          73.5,
          62.49,
          57.82,
          58.54,
          56.9,
          59.99,
          60.35,
          59.42,
          82.48,
          73.19,
          86.49,
          80.14,
          82.81,
          89.01,
          87.23,
          85.67,
          85.02,
          79.98,
          84.55,
          81.06,
          77.2,
          80.18,
          82.4,
          85.43,
          80.33,
          83.28,
          80.33,
          82.54,
          71.59,
          69.85,
          66.79,
          70.65,
          69.57,
          62.78,
          68.88,
          76.26,
          84.87,
          69.43,
          68.9,
          86.43,
          75.98,
          83.48,
          82.09,
          75.1,
          85.24,
          82.59,
          82.93,
          80.69,
          81.06,
          80.73,
          84.85,
          74.44,
          74.62,
          83.44,
          82.89,
          78.93,
          76.7,
          70.56,
          76.44,
          77.46,
          80.83,
          72.73,
          69.13,
          70.35,
          73.24,
          76.74,
          80.37,
          80.83,
          78.87,
          82.23,
          84.44,
          83.04,
          56.14,
          70.32,
          84.66,
          86.81,
          82.8,
          88.75,
          89.38,
          85.25,
          87.12,
          88.81,
          87.03,
          70.25,
          68.37,
          65.92,
          67.46,
          74.72,
          71.68,
          71.16,
          70.14,
          67.34,
          66.19,
          69.17,
          76.44,
          72.98,
          64.08,
          67.09,
          58.04,
          57.49,
          55.58,
          56.02,
          63.23,
          70.46,
          62.46,
          62.31,
          62.71,
          63.93,
          62.74,
          60.78,
          57.2,
          62.51,
          77.48,
          67.38,
          62.13,
          56.3,
          72.03,
          70.11,
          70.43,
          58.67,
          55.08,
          65.7,
          74.8,
          73.54,
          85,
          82.2,
          70.23,
          69.61,
          73.1,
          72.65,
          69.44,
          74.6,
          73.27,
          78.26,
          52.91,
          60.52,
          63.58,
          61.61,
          62.71,
          63.38,
          68.89,
          68.29,
          79.33,
          69.04,
          70.57,
          74.01,
          79.99,
          80.25,
          81.31,
          75.16,
          76.37,
          64.95,
          70.16,
          66.94,
          68.11,
          66.52,
          68.78,
          73.1,
          63.69,
          74.41,
          63.76,
          70.63,
          74.37,
          71.14,
          51.1,
          49.13,
          51.76,
          61.16,
          61.81,
          69.69,
          69.01,
          64.3,
          73.25,
          67.66,
          73.53,
          72.69,
          75.16,
          73.82,
          73.66,
          74.27,
          73.86,
          77.05,
          70.38,
          66.18,
          71.1,
          62.3,
          58.06,
          58.26,
          56,
          53.53,
          60.9,
          59.65,
          55.1,
          57.04,
          52.49,
          53.56,
          53.78,
          54.57,
          58.26,
          65.68,
          67.04,
          71.59,
          68.57,
          68.56,
          63.81,
          66.23,
          60.87,
          64.96,
          60.12,
          73.3,
          64.95,
          65.96,
          66.41,
          72.47,
          72.79,
          71.77,
          71.01,
          75.59,
          68.27,
          72.77,
          66.35,
          61.63,
          62.16,
          69.54,
          77.39,
          78.69,
          82.06,
          84.67,
          60.61,
          69.4,
          62.48,
          82.14,
          76.33,
          63.96,
          67.62,
          73.54,
          59.94,
          64.8,
          69.88,
          61.9,
          52.23,
          50.67,
          70.38,
          59.4,
          56.6,
          73.7,
          92.68,
          86.26,
          87.6,
          85.44,
          85.58,
          79.13,
          71.1,
          73.1,
          79,
          75,
          70.4,
          84.29,
          76.35,
          76.66,
          86.7,
          82.81,
          81.87,
          70.85,
          85.96,
          94.54,
          98.5,
          93.51,
          98.76,
          89.4,
          66.41,
          88.41,
          88.91,
          85.41,
          86.82,
          88.29,
          68.38,
          75.51,
          72.39,
          79.3,
          77.22,
          84.7,
          63.26,
          66.63,
          59.36,
          68.67,
          70.44,
          65.03,
          72.81,
          79.89,
          64.55,
          69.37,
          73.78,
          69.96,
          78.39,
          69.07,
          70.92,
          76.22,
          81.36,
          83.42,
          78.31,
          73.52,
          78.99,
          80.36,
          79.72,
          75.26,
          70.53,
          64.71,
          66.6,
          88.66,
          79.92,
          73.79,
          75.49,
          60.13,
          73.86,
          62.71,
          67.53,
          70.9,
          77.15,
          75.58,
          84.95,
          82.55,
          70.95,
          65.38,
          83.85,
          87.14,
          78.57,
          87.66,
          79.04,
          62.18,
          65.5,
          62.14,
          70.48,
          68.35,
          65.12,
          66.34,
          57.68,
          53.73,
          50.17,
          62.54,
          75.71,
          73.48,
          77.13,
          68.29,
          66.92,
          59.54,
          76.13,
          63.73,
          68.85,
          67.59,
          61.23,
          64.51,
          73.92,
          73.07,
          74.13,
          69,
          63.98,
          80.66,
          72.51,
          85.93,
          87.13,
          84.2,
          80.44,
          79.41,
          78.96,
          79.17,
          87.51,
          85.37,
          71.88,
          54.29,
          65.12,
          83.25,
          74.42,
          65.5,
          58.2,
          60.22,
          50.88,
          48.2,
          49.87,
          49.49,
          71.41,
          61.16,
          68.6,
          73.7,
          73.22,
          73.7,
          71.59,
          61.95,
          76.97,
          79.69,
          76.43,
          71.54,
          78.95,
          70.97,
          54.94,
          42.67,
          58.02,
          72.07,
          76.59,
          77.93,
          73.5,
          63.73,
          65.1,
          62.57,
          64.9,
          66.08,
          77.52,
          70.92,
          73.79,
          73.42,
          67.34,
          68.36,
          66.09,
          71.81,
          72.75,
          68.03,
          73.55,
          70.17,
          70.53,
          44.45,
          60.57,
          82.32,
          63.98,
          50.23,
          67.53,
          62.68,
          72.08,
          82.26,
          71.11,
          74.26,
          70.14,
          74.04,
          76.52,
          73.62,
          82.47,
          76.79,
          65.47,
          68.28,
          72.21,
          73.01,
          78.29,
          67.9,
          69.08,
          65.28,
          37.22,
          62.36,
          71.58,
          66.39,
          73.47,
          84.26,
          76.6,
          85.78,
          86.65,
          73.19,
          82.2,
          74.4,
          76.63,
          76.88,
          74.49,
          76.84,
          85.79,
          84.31,
          72.32,
          60.6,
          81.21,
          73.29,
          83.03,
          86.65,
          76.8,
          84.78,
          80.94,
          69.23,
          83.36,
          88.06,
          77.65,
          63.04,
          74.61,
          79.73,
          82.09,
          87.55,
          81.7,
          88.23,
          87.22,
          89.52,
          85.14,
          85.41,
          70.55,
          81.35,
          80.7,
          76.94,
          76.04,
          75.22,
          73.61,
          80.4,
          80.96,
          86.18,
          90.9,
          88.48,
          83.89,
          87.19,
          80.22,
          73.53,
          79.03,
          76.33,
          77.72,
          84.2,
          82.43,
          86.54,
          82.9,
          82.62,
          62.3,
          59.49,
          67.7,
          71.35,
          74.32,
          74.37,
          67.99,
          63.53,
          69.15,
          67.88,
          61.13,
          64.28,
          72.36,
          69.39,
          67.2,
          71.01,
          60.46,
          67.28,
          75.18,
          80.3,
          77.6,
          67.85,
          73.82,
          76.3,
          80.5,
          86.29,
          79.24,
          74.33,
          78.29,
          70.14,
          75.89,
          88.62,
          82.52,
          72.56,
          61.12,
          70.08,
          69.2,
          52.36,
          88.85,
          85.53,
          92.28,
          89.85,
          95.41,
          89.32,
          95.24,
          93.55,
          88.49,
          95.32,
          95.68,
          92.2,
          96.4,
          96.26,
          96.93,
          93.77,
          92.66,
          83.82,
          90.33,
          85.29,
          79.65,
          64.71,
          74.72,
          72.08,
          73.23,
          74.92,
          72.96,
          85.65,
          84.31,
          76.85,
          75.86,
          83.56,
          74.68,
          79.04,
          84.09,
          83.26,
          82.72,
          77.76,
          80.46,
          81.66,
          77.62,
          80.75,
          81.48,
          86.52,
          82.92,
          92.14,
          72.41,
          80.26,
          86.13,
          98.35,
          87.83,
          88.49,
          77.5,
          84.25,
          61.55,
          62.25,
          64.87,
          62.53,
          80.96,
          78.05,
          56.06,
          65.05,
          66.16,
          65.46
         ],
         "xaxis": "x",
         "yaxis": "y"
        }
       ],
       "layout": {
        "bargap": 0.1,
        "bargroupgap": 0.05,
        "barmode": "relative",
        "legend": {
         "tracegroupgap": 0
        },
        "template": {
         "data": {
          "bar": [
           {
            "error_x": {
             "color": "#2a3f5f"
            },
            "error_y": {
             "color": "#2a3f5f"
            },
            "marker": {
             "line": {
              "color": "#E5ECF6",
              "width": 0.5
             },
             "pattern": {
              "fillmode": "overlay",
              "size": 10,
              "solidity": 0.2
             }
            },
            "type": "bar"
           }
          ],
          "barpolar": [
           {
            "marker": {
             "line": {
              "color": "#E5ECF6",
              "width": 0.5
             },
             "pattern": {
              "fillmode": "overlay",
              "size": 10,
              "solidity": 0.2
             }
            },
            "type": "barpolar"
           }
          ],
          "carpet": [
           {
            "aaxis": {
             "endlinecolor": "#2a3f5f",
             "gridcolor": "white",
             "linecolor": "white",
             "minorgridcolor": "white",
             "startlinecolor": "#2a3f5f"
            },
            "baxis": {
             "endlinecolor": "#2a3f5f",
             "gridcolor": "white",
             "linecolor": "white",
             "minorgridcolor": "white",
             "startlinecolor": "#2a3f5f"
            },
            "type": "carpet"
           }
          ],
          "choropleth": [
           {
            "colorbar": {
             "outlinewidth": 0,
             "ticks": ""
            },
            "type": "choropleth"
           }
          ],
          "contour": [
           {
            "colorbar": {
             "outlinewidth": 0,
             "ticks": ""
            },
            "colorscale": [
             [
              0,
              "#0d0887"
             ],
             [
              0.1111111111111111,
              "#46039f"
             ],
             [
              0.2222222222222222,
              "#7201a8"
             ],
             [
              0.3333333333333333,
              "#9c179e"
             ],
             [
              0.4444444444444444,
              "#bd3786"
             ],
             [
              0.5555555555555556,
              "#d8576b"
             ],
             [
              0.6666666666666666,
              "#ed7953"
             ],
             [
              0.7777777777777778,
              "#fb9f3a"
             ],
             [
              0.8888888888888888,
              "#fdca26"
             ],
             [
              1,
              "#f0f921"
             ]
            ],
            "type": "contour"
           }
          ],
          "contourcarpet": [
           {
            "colorbar": {
             "outlinewidth": 0,
             "ticks": ""
            },
            "type": "contourcarpet"
           }
          ],
          "heatmap": [
           {
            "colorbar": {
             "outlinewidth": 0,
             "ticks": ""
            },
            "colorscale": [
             [
              0,
              "#0d0887"
             ],
             [
              0.1111111111111111,
              "#46039f"
             ],
             [
              0.2222222222222222,
              "#7201a8"
             ],
             [
              0.3333333333333333,
              "#9c179e"
             ],
             [
              0.4444444444444444,
              "#bd3786"
             ],
             [
              0.5555555555555556,
              "#d8576b"
             ],
             [
              0.6666666666666666,
              "#ed7953"
             ],
             [
              0.7777777777777778,
              "#fb9f3a"
             ],
             [
              0.8888888888888888,
              "#fdca26"
             ],
             [
              1,
              "#f0f921"
             ]
            ],
            "type": "heatmap"
           }
          ],
          "heatmapgl": [
           {
            "colorbar": {
             "outlinewidth": 0,
             "ticks": ""
            },
            "colorscale": [
             [
              0,
              "#0d0887"
             ],
             [
              0.1111111111111111,
              "#46039f"
             ],
             [
              0.2222222222222222,
              "#7201a8"
             ],
             [
              0.3333333333333333,
              "#9c179e"
             ],
             [
              0.4444444444444444,
              "#bd3786"
             ],
             [
              0.5555555555555556,
              "#d8576b"
             ],
             [
              0.6666666666666666,
              "#ed7953"
             ],
             [
              0.7777777777777778,
              "#fb9f3a"
             ],
             [
              0.8888888888888888,
              "#fdca26"
             ],
             [
              1,
              "#f0f921"
             ]
            ],
            "type": "heatmapgl"
           }
          ],
          "histogram": [
           {
            "marker": {
             "pattern": {
              "fillmode": "overlay",
              "size": 10,
              "solidity": 0.2
             }
            },
            "type": "histogram"
           }
          ],
          "histogram2d": [
           {
            "colorbar": {
             "outlinewidth": 0,
             "ticks": ""
            },
            "colorscale": [
             [
              0,
              "#0d0887"
             ],
             [
              0.1111111111111111,
              "#46039f"
             ],
             [
              0.2222222222222222,
              "#7201a8"
             ],
             [
              0.3333333333333333,
              "#9c179e"
             ],
             [
              0.4444444444444444,
              "#bd3786"
             ],
             [
              0.5555555555555556,
              "#d8576b"
             ],
             [
              0.6666666666666666,
              "#ed7953"
             ],
             [
              0.7777777777777778,
              "#fb9f3a"
             ],
             [
              0.8888888888888888,
              "#fdca26"
             ],
             [
              1,
              "#f0f921"
             ]
            ],
            "type": "histogram2d"
           }
          ],
          "histogram2dcontour": [
           {
            "colorbar": {
             "outlinewidth": 0,
             "ticks": ""
            },
            "colorscale": [
             [
              0,
              "#0d0887"
             ],
             [
              0.1111111111111111,
              "#46039f"
             ],
             [
              0.2222222222222222,
              "#7201a8"
             ],
             [
              0.3333333333333333,
              "#9c179e"
             ],
             [
              0.4444444444444444,
              "#bd3786"
             ],
             [
              0.5555555555555556,
              "#d8576b"
             ],
             [
              0.6666666666666666,
              "#ed7953"
             ],
             [
              0.7777777777777778,
              "#fb9f3a"
             ],
             [
              0.8888888888888888,
              "#fdca26"
             ],
             [
              1,
              "#f0f921"
             ]
            ],
            "type": "histogram2dcontour"
           }
          ],
          "mesh3d": [
           {
            "colorbar": {
             "outlinewidth": 0,
             "ticks": ""
            },
            "type": "mesh3d"
           }
          ],
          "parcoords": [
           {
            "line": {
             "colorbar": {
              "outlinewidth": 0,
              "ticks": ""
             }
            },
            "type": "parcoords"
           }
          ],
          "pie": [
           {
            "automargin": true,
            "type": "pie"
           }
          ],
          "scatter": [
           {
            "fillpattern": {
             "fillmode": "overlay",
             "size": 10,
             "solidity": 0.2
            },
            "type": "scatter"
           }
          ],
          "scatter3d": [
           {
            "line": {
             "colorbar": {
              "outlinewidth": 0,
              "ticks": ""
             }
            },
            "marker": {
             "colorbar": {
              "outlinewidth": 0,
              "ticks": ""
             }
            },
            "type": "scatter3d"
           }
          ],
          "scattercarpet": [
           {
            "marker": {
             "colorbar": {
              "outlinewidth": 0,
              "ticks": ""
             }
            },
            "type": "scattercarpet"
           }
          ],
          "scattergeo": [
           {
            "marker": {
             "colorbar": {
              "outlinewidth": 0,
              "ticks": ""
             }
            },
            "type": "scattergeo"
           }
          ],
          "scattergl": [
           {
            "marker": {
             "colorbar": {
              "outlinewidth": 0,
              "ticks": ""
             }
            },
            "type": "scattergl"
           }
          ],
          "scattermapbox": [
           {
            "marker": {
             "colorbar": {
              "outlinewidth": 0,
              "ticks": ""
             }
            },
            "type": "scattermapbox"
           }
          ],
          "scatterpolar": [
           {
            "marker": {
             "colorbar": {
              "outlinewidth": 0,
              "ticks": ""
             }
            },
            "type": "scatterpolar"
           }
          ],
          "scatterpolargl": [
           {
            "marker": {
             "colorbar": {
              "outlinewidth": 0,
              "ticks": ""
             }
            },
            "type": "scatterpolargl"
           }
          ],
          "scatterternary": [
           {
            "marker": {
             "colorbar": {
              "outlinewidth": 0,
              "ticks": ""
             }
            },
            "type": "scatterternary"
           }
          ],
          "surface": [
           {
            "colorbar": {
             "outlinewidth": 0,
             "ticks": ""
            },
            "colorscale": [
             [
              0,
              "#0d0887"
             ],
             [
              0.1111111111111111,
              "#46039f"
             ],
             [
              0.2222222222222222,
              "#7201a8"
             ],
             [
              0.3333333333333333,
              "#9c179e"
             ],
             [
              0.4444444444444444,
              "#bd3786"
             ],
             [
              0.5555555555555556,
              "#d8576b"
             ],
             [
              0.6666666666666666,
              "#ed7953"
             ],
             [
              0.7777777777777778,
              "#fb9f3a"
             ],
             [
              0.8888888888888888,
              "#fdca26"
             ],
             [
              1,
              "#f0f921"
             ]
            ],
            "type": "surface"
           }
          ],
          "table": [
           {
            "cells": {
             "fill": {
              "color": "#EBF0F8"
             },
             "line": {
              "color": "white"
             }
            },
            "header": {
             "fill": {
              "color": "#C8D4E3"
             },
             "line": {
              "color": "white"
             }
            },
            "type": "table"
           }
          ]
         },
         "layout": {
          "annotationdefaults": {
           "arrowcolor": "#2a3f5f",
           "arrowhead": 0,
           "arrowwidth": 1
          },
          "autotypenumbers": "strict",
          "coloraxis": {
           "colorbar": {
            "outlinewidth": 0,
            "ticks": ""
           }
          },
          "colorscale": {
           "diverging": [
            [
             0,
             "#8e0152"
            ],
            [
             0.1,
             "#c51b7d"
            ],
            [
             0.2,
             "#de77ae"
            ],
            [
             0.3,
             "#f1b6da"
            ],
            [
             0.4,
             "#fde0ef"
            ],
            [
             0.5,
             "#f7f7f7"
            ],
            [
             0.6,
             "#e6f5d0"
            ],
            [
             0.7,
             "#b8e186"
            ],
            [
             0.8,
             "#7fbc41"
            ],
            [
             0.9,
             "#4d9221"
            ],
            [
             1,
             "#276419"
            ]
           ],
           "sequential": [
            [
             0,
             "#0d0887"
            ],
            [
             0.1111111111111111,
             "#46039f"
            ],
            [
             0.2222222222222222,
             "#7201a8"
            ],
            [
             0.3333333333333333,
             "#9c179e"
            ],
            [
             0.4444444444444444,
             "#bd3786"
            ],
            [
             0.5555555555555556,
             "#d8576b"
            ],
            [
             0.6666666666666666,
             "#ed7953"
            ],
            [
             0.7777777777777778,
             "#fb9f3a"
            ],
            [
             0.8888888888888888,
             "#fdca26"
            ],
            [
             1,
             "#f0f921"
            ]
           ],
           "sequentialminus": [
            [
             0,
             "#0d0887"
            ],
            [
             0.1111111111111111,
             "#46039f"
            ],
            [
             0.2222222222222222,
             "#7201a8"
            ],
            [
             0.3333333333333333,
             "#9c179e"
            ],
            [
             0.4444444444444444,
             "#bd3786"
            ],
            [
             0.5555555555555556,
             "#d8576b"
            ],
            [
             0.6666666666666666,
             "#ed7953"
            ],
            [
             0.7777777777777778,
             "#fb9f3a"
            ],
            [
             0.8888888888888888,
             "#fdca26"
            ],
            [
             1,
             "#f0f921"
            ]
           ]
          },
          "colorway": [
           "#636efa",
           "#EF553B",
           "#00cc96",
           "#ab63fa",
           "#FFA15A",
           "#19d3f3",
           "#FF6692",
           "#B6E880",
           "#FF97FF",
           "#FECB52"
          ],
          "font": {
           "color": "#2a3f5f"
          },
          "geo": {
           "bgcolor": "white",
           "lakecolor": "white",
           "landcolor": "#E5ECF6",
           "showlakes": true,
           "showland": true,
           "subunitcolor": "white"
          },
          "hoverlabel": {
           "align": "left"
          },
          "hovermode": "closest",
          "mapbox": {
           "style": "light"
          },
          "paper_bgcolor": "white",
          "plot_bgcolor": "#E5ECF6",
          "polar": {
           "angularaxis": {
            "gridcolor": "white",
            "linecolor": "white",
            "ticks": ""
           },
           "bgcolor": "#E5ECF6",
           "radialaxis": {
            "gridcolor": "white",
            "linecolor": "white",
            "ticks": ""
           }
          },
          "scene": {
           "xaxis": {
            "backgroundcolor": "#E5ECF6",
            "gridcolor": "white",
            "gridwidth": 2,
            "linecolor": "white",
            "showbackground": true,
            "ticks": "",
            "zerolinecolor": "white"
           },
           "yaxis": {
            "backgroundcolor": "#E5ECF6",
            "gridcolor": "white",
            "gridwidth": 2,
            "linecolor": "white",
            "showbackground": true,
            "ticks": "",
            "zerolinecolor": "white"
           },
           "zaxis": {
            "backgroundcolor": "#E5ECF6",
            "gridcolor": "white",
            "gridwidth": 2,
            "linecolor": "white",
            "showbackground": true,
            "ticks": "",
            "zerolinecolor": "white"
           }
          },
          "shapedefaults": {
           "line": {
            "color": "#2a3f5f"
           }
          },
          "ternary": {
           "aaxis": {
            "gridcolor": "white",
            "linecolor": "white",
            "ticks": ""
           },
           "baxis": {
            "gridcolor": "white",
            "linecolor": "white",
            "ticks": ""
           },
           "bgcolor": "#E5ECF6",
           "caxis": {
            "gridcolor": "white",
            "linecolor": "white",
            "ticks": ""
           }
          },
          "title": {
           "x": 0.05
          },
          "xaxis": {
           "automargin": true,
           "gridcolor": "white",
           "linecolor": "white",
           "ticks": "",
           "title": {
            "standoff": 15
           },
           "zerolinecolor": "white",
           "zerolinewidth": 2
          },
          "yaxis": {
           "automargin": true,
           "gridcolor": "white",
           "linecolor": "white",
           "ticks": "",
           "title": {
            "standoff": 15
           },
           "zerolinecolor": "white",
           "zerolinewidth": 2
          }
         }
        },
        "title": {
         "text": "Histogram of OVERALL_LI"
        },
        "xaxis": {
         "anchor": "y",
         "domain": [
          0,
          1
         ],
         "title": {
          "text": "OVERALL_LI"
         }
        },
        "yaxis": {
         "anchor": "x",
         "domain": [
          0,
          1
         ],
         "title": {
          "text": "count"
         }
        }
       }
      }
     },
     "metadata": {},
     "output_type": "display_data"
    }
   ],
   "source": [
    "# Plot a histogram of the 'OVERALL_LI' column with styling options using Plotly\n",
    "hist_fig = px.histogram(education_districtwise, x='OVERALL_LI', nbins=40, \n",
    "                        labels={'OVERALL_LI': 'OVERALL_LI'}, title='Histogram of OVERALL_LI')\n",
    "hist_fig.update_layout(bargap=0.1, bargroupgap=0.05)\n",
    "hist_fig.show()"
   ]
  },
  {
   "cell_type": "code",
   "execution_count": null,
   "metadata": {},
   "outputs": [],
   "source": [
    "# Plot a cumulative distribution function (CDF) of 'OVERALL_LI' using Plotly\n",
    "cdf_fig = go.Figure()\n",
    "cdf_fig.add_trace(go.Scatter(x=np.sort(education_districtwise['OVERALL_LI']),\n",
    "                             y=np.arange(1, len(education_districtwise) + 1) / len(education_districtwise),\n",
    "                             mode='lines', name='CDF'))\n",
    "cdf_fig.update_layout(title='Cumulative Distribution Function (CDF) of OVERALL_LI',\n",
    "                      xaxis_title='OVERALL_LI', yaxis_title='Cumulative Probability')\n",
    "cdf_fig.show()"
   ]
  },
  {
   "cell_type": "code",
   "execution_count": null,
   "metadata": {},
   "outputs": [],
   "source": [
    "# Calculate mean and standard deviation of 'OVERALL_LI' column\n",
    "mean_overall_li = education_districtwise['OVERALL_LI'].mean()\n",
    "std_overall_li = education_districtwise['OVERALL_LI'].std()\n",
    "print(\"\\nMean of OVERALL_LI:\", mean_overall_li)\n",
    "print(\"Standard Deviation of OVERALL_LI:\", std_overall_li)"
   ]
  },
  {
   "cell_type": "markdown",
   "metadata": {},
   "source": [
    "<img src=\"empirical.png\" alt=\"Alt text\" width=\"700\"/>\n"
   ]
  },
  {
   "cell_type": "code",
   "execution_count": null,
   "metadata": {},
   "outputs": [],
   "source": [
    "for i in range(1, 4):\n",
    "    lower_limit = mean_overall_li - i * std_overall_li\n",
    "    upper_limit = mean_overall_li + i * std_overall_li\n",
    "    percentage_within_limit = ((education_districtwise['OVERALL_LI'] >= lower_limit) & (education_districtwise['OVERALL_LI'] <= upper_limit)).mean()\n",
    "    print(f\"\\nPercentage of data within {i} standard deviations from the mean: {percentage_within_limit:.2%}\")"
   ]
  },
  {
   "cell_type": "code",
   "execution_count": null,
   "metadata": {},
   "outputs": [],
   "source": [
    "# Calculate Z-scores and add a 'Z_SCORE' column to the DataFrame\n",
    "education_districtwise['Z_SCORE'] = stats.zscore(education_districtwise['OVERALL_LI'])\n",
    "print(\"\\nDataFrame with Z-Scores:\")\n",
    "print(education_districtwise)"
   ]
  },
  {
   "cell_type": "markdown",
   "metadata": {},
   "source": [
    "\n",
    "\n",
    "<img src=\"outliers.png\" alt=\"Alt text\" width=\"700\"/>\n",
    "\n"
   ]
  },
  {
   "cell_type": "code",
   "execution_count": 86,
   "metadata": {},
   "outputs": [
    {
     "name": "stdout",
     "output_type": "stream",
     "text": [
      "Rows with Z-Scores beyond 3 standard deviations (potential outliers):\n",
      "      DISTNAME  OVERALL_LI  TOTPOPULAT   Z_SCORE\n",
      "434  DANTEWADA       42.67    532791.0 -3.030890\n",
      "494  ALIRAJPUR       37.22    728677.0 -3.569821\n"
     ]
    }
   ],
   "source": [
    "# Identify and print rows with Z-scores greater than 3 or less than -3 (potential outliers)\n",
    "outliers = education_districtwise[(education_districtwise['Z_SCORE'] > 3) | (education_districtwise['Z_SCORE'] < -3)]\n",
    "print(\"Rows with Z-Scores beyond 3 standard deviations (potential outliers):\")\n",
    "print(outliers)\n"
   ]
  },
  {
   "cell_type": "code",
   "execution_count": null,
   "metadata": {},
   "outputs": [],
   "source": []
  }
 ],
 "metadata": {
  "kernelspec": {
   "display_name": "Python 3",
   "language": "python",
   "name": "python3"
  },
  "language_info": {
   "codemirror_mode": {
    "name": "ipython",
    "version": 3
   },
   "file_extension": ".py",
   "mimetype": "text/x-python",
   "name": "python",
   "nbconvert_exporter": "python",
   "pygments_lexer": "ipython3",
   "version": "3.10.11"
  }
 },
 "nbformat": 4,
 "nbformat_minor": 2
}
