{
 "cells": [
  {
   "cell_type": "code",
   "execution_count": null,
   "metadata": {},
   "outputs": [],
   "source": [
    "import numpy as np\n",
    "import pandas as pd\n",
    "import matplotlib.pyplot as plt\n",
    "import seaborn as sns\n",
    "import plotly.express as px\n",
    "import plotly.graph_objects as go\n",
    "from scipy import stats\n"
   ]
  },
  {
   "cell_type": "code",
   "execution_count": null,
   "metadata": {},
   "outputs": [],
   "source": [
    "# Read CSV file into DataFrame and drop missing values\n",
    "education_districtwise = pd.read_csv('Districtwise.csv')\n",
    "education_districtwise = education_districtwise.dropna()"
   ]
  },
  {
   "cell_type": "code",
   "execution_count": null,
   "metadata": {},
   "outputs": [],
   "source": [
    "education_districtwise.shape"
   ]
  },
  {
   "cell_type": "code",
   "execution_count": null,
   "metadata": {},
   "outputs": [],
   "source": [
    "# Select specific columns ('DISTNAME', 'OVERALL_LI') and print the first 10 rows\n",
    "education_districtwise = education_districtwise[[\"DISTNAME\", \"OVERALL_LI\", \"TOTPOPULAT\"]]\n",
    "print(\"Selected Columns (First 10 Rows):\")\n",
    "print(education_districtwise.head(10))"
   ]
  },
  {
   "cell_type": "code",
   "execution_count": null,
   "metadata": {},
   "outputs": [],
   "source": [
    "scatter_fig = px.scatter(education_districtwise, x='TOTPOPULAT', y='OVERALL_LI', title='Scatter Plot: TOTPOPULAT vs OVERALL_LI',\n",
    "                         labels={'TOTPOPULAT': 'Total Population', 'OVERALL_LI': 'Overall Literacy'})\n",
    "scatter_fig.show()"
   ]
  },
  {
   "cell_type": "code",
   "execution_count": null,
   "metadata": {},
   "outputs": [],
   "source": [
    "# Plot a histogram of the 'OVERALL_LI' column with styling options using Plotly\n",
    "hist_fig = px.histogram(education_districtwise, x='OVERALL_LI', nbins=40, \n",
    "                        labels={'OVERALL_LI': 'OVERALL_LI'}, title='Histogram of OVERALL_LI')\n",
    "hist_fig.update_layout(bargap=0.1, bargroupgap=0.05)\n",
    "hist_fig.show()"
   ]
  },
  {
   "cell_type": "code",
   "execution_count": null,
   "metadata": {},
   "outputs": [],
   "source": [
    "# Plot a cumulative distribution function (CDF) of 'OVERALL_LI' using Plotly\n",
    "cdf_fig = go.Figure()\n",
    "cdf_fig.add_trace(go.Scatter(x=np.sort(education_districtwise['OVERALL_LI']),\n",
    "                             y=np.arange(1, len(education_districtwise) + 1) / len(education_districtwise),\n",
    "                             mode='lines', name='CDF'))\n",
    "cdf_fig.update_layout(title='Cumulative Distribution Function (CDF) of OVERALL_LI',\n",
    "                      xaxis_title='OVERALL_LI', yaxis_title='Cumulative Probability')\n",
    "cdf_fig.show()"
   ]
  },
  {
   "cell_type": "code",
   "execution_count": null,
   "metadata": {},
   "outputs": [],
   "source": [
    "# Calculate mean and standard deviation of 'OVERALL_LI' column\n",
    "mean_overall_li = education_districtwise['OVERALL_LI'].mean()\n",
    "std_overall_li = education_districtwise['OVERALL_LI'].std()\n",
    "print(\"\\nMean of OVERALL_LI:\", mean_overall_li)\n",
    "print(\"Standard Deviation of OVERALL_LI:\", std_overall_li)"
   ]
  },
  {
   "cell_type": "markdown",
   "metadata": {},
   "source": [
    "<img src=\"empirical.png\" alt=\"Alt text\" width=\"700\"/>\n"
   ]
  },
  {
   "cell_type": "code",
   "execution_count": null,
   "metadata": {},
   "outputs": [],
   "source": [
    "for i in range(1, 4):\n",
    "    lower_limit = mean_overall_li - i * std_overall_li\n",
    "    upper_limit = mean_overall_li + i * std_overall_li\n",
    "    percentage_within_limit = ((education_districtwise['OVERALL_LI'] >= lower_limit) & (education_districtwise['OVERALL_LI'] <= upper_limit)).mean()\n",
    "    print(f\"\\nPercentage of data within {i} standard deviations from the mean: {percentage_within_limit:.2%}\")"
   ]
  },
  {
   "cell_type": "code",
   "execution_count": null,
   "metadata": {},
   "outputs": [],
   "source": [
    "# Calculate Z-scores and add a 'Z_SCORE' column to the DataFrame\n",
    "education_districtwise['Z_SCORE'] = stats.zscore(education_districtwise['OVERALL_LI'])\n",
    "print(\"\\nDataFrame with Z-Scores:\")\n",
    "print(education_districtwise)"
   ]
  },
  {
   "cell_type": "markdown",
   "metadata": {},
   "source": [
    "\n",
    "\n",
    "<img src=\"outliers.png\" alt=\"Alt text\" width=\"700\"/>\n",
    "\n"
   ]
  },
  {
   "cell_type": "code",
   "execution_count": null,
   "metadata": {},
   "outputs": [],
   "source": [
    "# Identify and print rows with Z-scores greater than 3 or less than -3 (potential outliers)\n",
    "outliers = education_districtwise[(education_districtwise['Z_SCORE'] > 2)]\n",
    "print(\"Rows with Z-Scores beyond 3 standard deviations (potential outliers):\")\n",
    "print(outliers)\n"
   ]
  },
  {
   "cell_type": "code",
   "execution_count": null,
   "metadata": {},
   "outputs": [],
   "source": []
  }
 ],
 "metadata": {
  "kernelspec": {
   "display_name": "Python 3",
   "language": "python",
   "name": "python3"
  },
  "language_info": {
   "codemirror_mode": {
    "name": "ipython",
    "version": 3
   },
   "file_extension": ".py",
   "mimetype": "text/x-python",
   "name": "python",
   "nbconvert_exporter": "python",
   "pygments_lexer": "ipython3",
   "version": "3.10.11"
  }
 },
 "nbformat": 4,
 "nbformat_minor": 2
}
