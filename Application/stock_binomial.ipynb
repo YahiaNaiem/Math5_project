{
 "cells": [
  {
   "cell_type": "code",
   "execution_count": 1,
   "id": "10d1d43d",
   "metadata": {},
   "outputs": [],
   "source": [
    "import yfinance as yf\n",
    "import pandas as pd\n",
    "from scipy.stats import binom\n",
    "import matplotlib.pyplot as plt\n",
    "import seaborn as sns"
   ]
  },
  {
   "cell_type": "code",
   "execution_count": 2,
   "id": "96cc05b3-39ab-4f74-98d0-fd1ef437ca50",
   "metadata": {},
   "outputs": [
    {
     "name": "stdout",
     "output_type": "stream",
     "text": [
      "[*********************100%***********************]  1 of 1 completed\n"
     ]
    }
   ],
   "source": [
    "aapl_data = yf.download(\"AAPL\", period=\"max\") #downloading the historical data"
   ]
  },
  {
   "cell_type": "code",
   "execution_count": 3,
   "id": "9d614975-b89e-4135-a722-156093f2ccdd",
   "metadata": {},
   "outputs": [
    {
     "name": "stdout",
     "output_type": "stream",
     "text": [
      "Index(['Open', 'High', 'Low', 'Close', 'Adj Close', 'Volume'], dtype='object')\n"
     ]
    }
   ],
   "source": [
    "print(aapl_data.columns)\n"
   ]
  },
  {
   "cell_type": "code",
   "execution_count": 4,
   "id": "e9d0c933-b6ed-4dfa-9cba-d348985f777e",
   "metadata": {},
   "outputs": [],
   "source": [
    "aapl_data.reset_index(inplace = True)"
   ]
  },
  {
   "cell_type": "code",
   "execution_count": 5,
   "id": "9f953528-41eb-4537-8fca-ce35c4cac2cc",
   "metadata": {},
   "outputs": [],
   "source": [
    "aapl_data.sort_values(by = \"Date\", ascending = False, inplace = True)"
   ]
  },
  {
   "cell_type": "code",
   "execution_count": 6,
   "id": "7fafa7bd-9b35-4104-ae0c-f4c577ad93be",
   "metadata": {
    "scrolled": true
   },
   "outputs": [
    {
     "data": {
      "text/plain": [
       "Date         0\n",
       "Open         0\n",
       "High         0\n",
       "Low          0\n",
       "Close        0\n",
       "Adj Close    0\n",
       "Volume       0\n",
       "dtype: int64"
      ]
     },
     "execution_count": 6,
     "metadata": {},
     "output_type": "execute_result"
    }
   ],
   "source": [
    "aapl_data.isnull().sum()  #insure there is no nulls "
   ]
  },
  {
   "cell_type": "code",
   "execution_count": 7,
   "id": "0138fa6e-80a1-4a7c-9640-95de0fc43b9e",
   "metadata": {
    "scrolled": true
   },
   "outputs": [
    {
     "name": "stdout",
     "output_type": "stream",
     "text": [
      "<class 'pandas.core.frame.DataFrame'>\n",
      "Int64Index: 10834 entries, 10833 to 0\n",
      "Data columns (total 7 columns):\n",
      " #   Column     Non-Null Count  Dtype         \n",
      "---  ------     --------------  -----         \n",
      " 0   Date       10834 non-null  datetime64[ns]\n",
      " 1   Open       10834 non-null  float64       \n",
      " 2   High       10834 non-null  float64       \n",
      " 3   Low        10834 non-null  float64       \n",
      " 4   Close      10834 non-null  float64       \n",
      " 5   Adj Close  10834 non-null  float64       \n",
      " 6   Volume     10834 non-null  int64         \n",
      "dtypes: datetime64[ns](1), float64(5), int64(1)\n",
      "memory usage: 677.1 KB\n"
     ]
    }
   ],
   "source": [
    "aapl_data.info()   #insure data types consistency "
   ]
  },
  {
   "cell_type": "code",
   "execution_count": 8,
   "id": "dd6dcce9-d720-4e1e-9edf-95662ad06c9a",
   "metadata": {},
   "outputs": [
    {
     "data": {
      "text/html": [
       "<div>\n",
       "<style scoped>\n",
       "    .dataframe tbody tr th:only-of-type {\n",
       "        vertical-align: middle;\n",
       "    }\n",
       "\n",
       "    .dataframe tbody tr th {\n",
       "        vertical-align: top;\n",
       "    }\n",
       "\n",
       "    .dataframe thead th {\n",
       "        text-align: right;\n",
       "    }\n",
       "</style>\n",
       "<table border=\"1\" class=\"dataframe\">\n",
       "  <thead>\n",
       "    <tr style=\"text-align: right;\">\n",
       "      <th></th>\n",
       "      <th>Date</th>\n",
       "      <th>Open</th>\n",
       "      <th>High</th>\n",
       "      <th>Low</th>\n",
       "      <th>Close</th>\n",
       "      <th>Adj Close</th>\n",
       "      <th>Volume</th>\n",
       "    </tr>\n",
       "  </thead>\n",
       "  <tbody>\n",
       "    <tr>\n",
       "      <th>10833</th>\n",
       "      <td>2023-12-01</td>\n",
       "      <td>190.330002</td>\n",
       "      <td>191.554993</td>\n",
       "      <td>189.229996</td>\n",
       "      <td>191.240005</td>\n",
       "      <td>191.240005</td>\n",
       "      <td>44867786</td>\n",
       "    </tr>\n",
       "    <tr>\n",
       "      <th>10832</th>\n",
       "      <td>2023-11-30</td>\n",
       "      <td>189.839996</td>\n",
       "      <td>190.320007</td>\n",
       "      <td>188.190002</td>\n",
       "      <td>189.949997</td>\n",
       "      <td>189.949997</td>\n",
       "      <td>48715100</td>\n",
       "    </tr>\n",
       "    <tr>\n",
       "      <th>10831</th>\n",
       "      <td>2023-11-29</td>\n",
       "      <td>190.899994</td>\n",
       "      <td>192.089996</td>\n",
       "      <td>188.970001</td>\n",
       "      <td>189.369995</td>\n",
       "      <td>189.369995</td>\n",
       "      <td>43014200</td>\n",
       "    </tr>\n",
       "    <tr>\n",
       "      <th>10830</th>\n",
       "      <td>2023-11-28</td>\n",
       "      <td>189.779999</td>\n",
       "      <td>191.080002</td>\n",
       "      <td>189.399994</td>\n",
       "      <td>190.399994</td>\n",
       "      <td>190.399994</td>\n",
       "      <td>38415400</td>\n",
       "    </tr>\n",
       "    <tr>\n",
       "      <th>10829</th>\n",
       "      <td>2023-11-27</td>\n",
       "      <td>189.919998</td>\n",
       "      <td>190.669998</td>\n",
       "      <td>188.899994</td>\n",
       "      <td>189.789993</td>\n",
       "      <td>189.789993</td>\n",
       "      <td>40552600</td>\n",
       "    </tr>\n",
       "    <tr>\n",
       "      <th>...</th>\n",
       "      <td>...</td>\n",
       "      <td>...</td>\n",
       "      <td>...</td>\n",
       "      <td>...</td>\n",
       "      <td>...</td>\n",
       "      <td>...</td>\n",
       "      <td>...</td>\n",
       "    </tr>\n",
       "    <tr>\n",
       "      <th>4</th>\n",
       "      <td>1980-12-18</td>\n",
       "      <td>0.118862</td>\n",
       "      <td>0.119420</td>\n",
       "      <td>0.118862</td>\n",
       "      <td>0.118862</td>\n",
       "      <td>0.091978</td>\n",
       "      <td>73449600</td>\n",
       "    </tr>\n",
       "    <tr>\n",
       "      <th>3</th>\n",
       "      <td>1980-12-17</td>\n",
       "      <td>0.115513</td>\n",
       "      <td>0.116071</td>\n",
       "      <td>0.115513</td>\n",
       "      <td>0.115513</td>\n",
       "      <td>0.089387</td>\n",
       "      <td>86441600</td>\n",
       "    </tr>\n",
       "    <tr>\n",
       "      <th>2</th>\n",
       "      <td>1980-12-16</td>\n",
       "      <td>0.113281</td>\n",
       "      <td>0.113281</td>\n",
       "      <td>0.112723</td>\n",
       "      <td>0.112723</td>\n",
       "      <td>0.087228</td>\n",
       "      <td>105728000</td>\n",
       "    </tr>\n",
       "    <tr>\n",
       "      <th>1</th>\n",
       "      <td>1980-12-15</td>\n",
       "      <td>0.122210</td>\n",
       "      <td>0.122210</td>\n",
       "      <td>0.121652</td>\n",
       "      <td>0.121652</td>\n",
       "      <td>0.094137</td>\n",
       "      <td>175884800</td>\n",
       "    </tr>\n",
       "    <tr>\n",
       "      <th>0</th>\n",
       "      <td>1980-12-12</td>\n",
       "      <td>0.128348</td>\n",
       "      <td>0.128906</td>\n",
       "      <td>0.128348</td>\n",
       "      <td>0.128348</td>\n",
       "      <td>0.099319</td>\n",
       "      <td>469033600</td>\n",
       "    </tr>\n",
       "  </tbody>\n",
       "</table>\n",
       "<p>10834 rows × 7 columns</p>\n",
       "</div>"
      ],
      "text/plain": [
       "            Date        Open        High         Low       Close   Adj Close  \\\n",
       "10833 2023-12-01  190.330002  191.554993  189.229996  191.240005  191.240005   \n",
       "10832 2023-11-30  189.839996  190.320007  188.190002  189.949997  189.949997   \n",
       "10831 2023-11-29  190.899994  192.089996  188.970001  189.369995  189.369995   \n",
       "10830 2023-11-28  189.779999  191.080002  189.399994  190.399994  190.399994   \n",
       "10829 2023-11-27  189.919998  190.669998  188.899994  189.789993  189.789993   \n",
       "...          ...         ...         ...         ...         ...         ...   \n",
       "4     1980-12-18    0.118862    0.119420    0.118862    0.118862    0.091978   \n",
       "3     1980-12-17    0.115513    0.116071    0.115513    0.115513    0.089387   \n",
       "2     1980-12-16    0.113281    0.113281    0.112723    0.112723    0.087228   \n",
       "1     1980-12-15    0.122210    0.122210    0.121652    0.121652    0.094137   \n",
       "0     1980-12-12    0.128348    0.128906    0.128348    0.128348    0.099319   \n",
       "\n",
       "          Volume  \n",
       "10833   44867786  \n",
       "10832   48715100  \n",
       "10831   43014200  \n",
       "10830   38415400  \n",
       "10829   40552600  \n",
       "...          ...  \n",
       "4       73449600  \n",
       "3       86441600  \n",
       "2      105728000  \n",
       "1      175884800  \n",
       "0      469033600  \n",
       "\n",
       "[10834 rows x 7 columns]"
      ]
     },
     "execution_count": 8,
     "metadata": {},
     "output_type": "execute_result"
    }
   ],
   "source": [
    "aapl_data"
   ]
  },
  {
   "cell_type": "code",
   "execution_count": 10,
   "id": "9c8a5bdf-91b9-44ee-97e6-1d2a0c7e6175",
   "metadata": {},
   "outputs": [],
   "source": [
    "aapl_data['Daily Return'] = aapl_data['Adj Close'].pct_change() * 100"
   ]
  },
  {
   "cell_type": "code",
   "execution_count": 11,
   "id": "7ff46821-aca6-4e30-b04a-0de0a482714e",
   "metadata": {},
   "outputs": [],
   "source": [
    "trials = len(aapl_data)  # Number of days\n",
    "success_prob = aapl_data['Daily Return'].gt(0).sum() / len(aapl_data)"
   ]
  },
  {
   "cell_type": "code",
   "execution_count": 12,
   "id": "f736090e",
   "metadata": {},
   "outputs": [
    {
     "name": "stdout",
     "output_type": "stream",
     "text": [
      "10830 0.46814404432132967\n"
     ]
    }
   ],
   "source": [
    "print(trials, success_prob)"
   ]
  },
  {
   "cell_type": "code",
   "execution_count": 23,
   "id": "1bedf1fa",
   "metadata": {},
   "outputs": [],
   "source": [
    "upward_prob = binom.pmf(range(1, trials + 1), trials, success_prob)\n",
    "downward_prob = 1 - upward_prob"
   ]
  },
  {
   "cell_type": "code",
   "execution_count": 19,
   "id": "add24853",
   "metadata": {},
   "outputs": [
    {
     "name": "stdout",
     "output_type": "stream",
     "text": [
      "Probability of upward movement: [0. 0. 0. 0. 0. 0. 0. 0. 0.]\n"
     ]
    }
   ],
   "source": [
    "print(\"Probability of upward movement:\", upward_prob)\n"
   ]
  },
  {
   "cell_type": "code",
   "execution_count": 18,
   "id": "4ff3bfa5",
   "metadata": {},
   "outputs": [
    {
     "data": {
      "image/png": "[encoded data removed]",
      "text/plain": [
       "<Figure size 640x480 with 1 Axes>"
      ]
     },
     "metadata": {},
     "output_type": "display_data"
    }
   ],
   "source": [
    "\n",
    "\n",
    "# Plot daily returns\n",
    "# plt.figure(figsize=(12, 6))\n",
    "# plt.plot(aapl_data['Date'], aapl_data['Daily Return'])\n",
    "# plt.xlabel('Date')\n",
    "# plt.ylabel('Daily Return (%)')\n",
    "# plt.title('Daily Returns of AAPL Stock Price')\n",
    "# plt.grid(True)\n",
    "# plt.show()\n",
    "\n",
    "# Plot probabilities\n",
    "sns.barplot(x=['Upward', 'Downward'], y=[upward_prob[-1], downward_prob[-1]])\n",
    "plt.title('Probabilities of Upward and Downward Movements')\n",
    "plt.show()"
   ]
  },
  {
   "cell_type": "code",
   "execution_count": null,
   "id": "f6a3a34d",
   "metadata": {},
   "outputs": [],
   "source": []
  }
 ],
 "metadata": {
  "kernelspec": {
   "display_name": "Python 3 (ipykernel)",
   "language": "python",
   "name": "python3"
  },
  "language_info": {
   "codemirror_mode": {
    "name": "ipython",
    "version": 3
   },
   "file_extension": ".py",
   "mimetype": "text/x-python",
   "name": "python",
   "nbconvert_exporter": "python",
   "pygments_lexer": "ipython3",
   "version": "3.9.13"
  }
 },
 "nbformat": 4,
 "nbformat_minor": 5
}
