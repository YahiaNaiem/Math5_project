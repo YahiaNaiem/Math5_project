import numpy as np
import matplotlib.pyplot as plt
import scipy.stats as stats

def bernoulli_pmf(k, p):
    return p**k * (1-p)**(1-k)

def bernoulli_cdf(x, p):
    if x < 0:
        return 0
    elif 0 <= x < 1:
        return 1 - p
    else:
        return 1

def bernoulli_variance(p):
    return p * (1-p)

def bernoulli_expectation(p):
    return p

p = np.random.rand()
size = 10000
X = stats.bernoulli.rvs(p, size=size)

unique_values, counts = np.unique(X, return_counts=True)
pmf_values = [bernoulli_pmf(k, p) for k in unique_values]

x_ecdf = np.sort(X)
y_ecdf = np.arange(1, size + 1) / size

variance = bernoulli_variance(p)
expectation = bernoulli_expectation(p)

print ("variance = ", variance)
print ("expectation = ", expectation)

plt.bar(unique_values, pmf_values, align='center', alpha=0.7, width=0.03)
plt.xticks(unique_values)
plt.xlabel('X')
plt.ylabel('PMF')
plt.title(f'Bernoulli distribution (p={p:.2f})')
plt.show()

plt.step(x_ecdf, y_ecdf, where='post', label='Empirical CDF')
plt.title('Cumulative Distribution Function for Bernoulli Distribution')
plt.xlabel('X')
plt.ylabel('CDF')
plt.legend()
plt.show()
